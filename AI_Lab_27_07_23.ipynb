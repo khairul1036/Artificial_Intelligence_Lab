{
  "nbformat": 4,
  "nbformat_minor": 0,
  "metadata": {
    "colab": {
      "provenance": []
    },
    "kernelspec": {
      "name": "python3",
      "display_name": "Python 3"
    },
    "language_info": {
      "name": "python"
    }
  },
  "cells": [
    {
      "cell_type": "code",
      "source": [
        "import numpy as np\n",
        "arr = np.array([1, 2, 3, 4, 5])\n",
        "print(arr)"
      ],
      "metadata": {
        "colab": {
          "base_uri": "https://localhost:8080/"
        },
        "id": "OdnNBDljExXk",
        "outputId": "7792e6e6-fd57-4823-fd9e-bde10c957894"
      },
      "execution_count": null,
      "outputs": [
        {
          "output_type": "stream",
          "name": "stdout",
          "text": [
            "[1 2 3 4 5]\n"
          ]
        }
      ]
    },
    {
      "cell_type": "code",
      "source": [
        "arr.ndim"
      ],
      "metadata": {
        "colab": {
          "base_uri": "https://localhost:8080/"
        },
        "id": "pRWQnql87exC",
        "outputId": "cc4b33aa-275c-4a3a-de53-6af00012b468"
      },
      "execution_count": null,
      "outputs": [
        {
          "output_type": "execute_result",
          "data": {
            "text/plain": [
              "1"
            ]
          },
          "metadata": {},
          "execution_count": 42
        }
      ]
    },
    {
      "cell_type": "code",
      "source": [
        "arr = np.array(42)\n",
        "print(arr)"
      ],
      "metadata": {
        "colab": {
          "base_uri": "https://localhost:8080/"
        },
        "id": "76wfThfFE0Ey",
        "outputId": "eb885e28-9679-4162-9729-9262780d7155"
      },
      "execution_count": null,
      "outputs": [
        {
          "output_type": "stream",
          "name": "stdout",
          "text": [
            "42\n"
          ]
        }
      ]
    },
    {
      "cell_type": "code",
      "source": [
        "arr = np.array([[1, 2, 3], [4, 5, 6]])\n",
        "print(arr)"
      ],
      "metadata": {
        "colab": {
          "base_uri": "https://localhost:8080/"
        },
        "id": "3tXcMlxnE0Kc",
        "outputId": "77781cbc-46a8-4bcb-d106-feec231fea8c"
      },
      "execution_count": null,
      "outputs": [
        {
          "output_type": "stream",
          "name": "stdout",
          "text": [
            "[[1 2 3]\n",
            " [4 5 6]]\n"
          ]
        }
      ]
    },
    {
      "cell_type": "code",
      "source": [
        "arr = np.array([[[1, 2, 3], [4, 5, 6]], [[1, 2, 3], [4, 5, 6]]])\n",
        "print(arr)"
      ],
      "metadata": {
        "colab": {
          "base_uri": "https://localhost:8080/"
        },
        "id": "HUwd_h9hE0Ns",
        "outputId": "bc099b31-22ea-4a80-f30f-cc5e6caad97a"
      },
      "execution_count": null,
      "outputs": [
        {
          "output_type": "stream",
          "name": "stdout",
          "text": [
            "[[[1 2 3]\n",
            "  [4 5 6]]\n",
            "\n",
            " [[1 2 3]\n",
            "  [4 5 6]]]\n"
          ]
        }
      ]
    },
    {
      "cell_type": "code",
      "source": [
        "arr = np.array([1, 2, 3, 4], ndmin=9)\n",
        "print(arr)\n",
        "print('number of dimensions :', arr.ndim)"
      ],
      "metadata": {
        "colab": {
          "base_uri": "https://localhost:8080/"
        },
        "id": "Gelr9wiVFC-z",
        "outputId": "cae22a8c-2635-4003-e899-41a280ba2b8e"
      },
      "execution_count": null,
      "outputs": [
        {
          "output_type": "stream",
          "name": "stdout",
          "text": [
            "[[[[[[[[[1 2 3 4]]]]]]]]]\n",
            "number of dimensions : 9\n"
          ]
        }
      ]
    },
    {
      "cell_type": "code",
      "execution_count": null,
      "metadata": {
        "colab": {
          "base_uri": "https://localhost:8080/"
        },
        "id": "r-RNYDBC3gJP",
        "outputId": "f83ea595-37ff-450f-f52f-52b7857c6473"
      },
      "outputs": [
        {
          "output_type": "stream",
          "name": "stdout",
          "text": [
            "[[[1 2 3]\n",
            "  [4 5 6]]\n",
            "\n",
            " [[1 2 3]\n",
            "  [4 5 6]]]\n",
            "5\n",
            "5\n"
          ]
        }
      ],
      "source": [
        "arr = np.array([[[1, 2, 3], [4, 5, 6]], [[1, 2, 3], [4, 5, 6]]])\n",
        "print(arr)\n",
        "print(arr[1,1,1])\n",
        "print(arr[1][1][1])"
      ]
    },
    {
      "cell_type": "code",
      "source": [
        "arr = np.array([[1,2,3,4,5], [6,7,8,9,10]])\n",
        "print('Last element from 2nd dim: ', arr[1, -1])"
      ],
      "metadata": {
        "colab": {
          "base_uri": "https://localhost:8080/"
        },
        "id": "RmA96kMN7e6D",
        "outputId": "8628a241-6e0b-4c30-c124-405fafd3740e"
      },
      "execution_count": null,
      "outputs": [
        {
          "output_type": "stream",
          "name": "stdout",
          "text": [
            "Last element from 2nd dim:  10\n"
          ]
        }
      ]
    },
    {
      "cell_type": "code",
      "source": [
        "arr = np.array([[1, 2, 3, 4, 5], [6, 7, 8, 9, 10]])\n",
        "\n",
        "print(arr[0:2, 1:4])"
      ],
      "metadata": {
        "colab": {
          "base_uri": "https://localhost:8080/"
        },
        "id": "EnzJklQJ8JNa",
        "outputId": "5ebe8852-b6e9-42c8-b081-3cb4b744e364"
      },
      "execution_count": null,
      "outputs": [
        {
          "output_type": "stream",
          "name": "stdout",
          "text": [
            "[[ 2  3  4  5]\n",
            " [ 7  8  9 10]]\n"
          ]
        }
      ]
    },
    {
      "cell_type": "code",
      "source": [
        "arr = np.array([1, 2, 3, 4, 5, 6, 7])\n",
        "print(arr[-3:-1])"
      ],
      "metadata": {
        "colab": {
          "base_uri": "https://localhost:8080/"
        },
        "id": "SQ_r8JzwFDB-",
        "outputId": "41d8828e-97c8-4cda-f0c8-5ff88bac2c44"
      },
      "execution_count": null,
      "outputs": [
        {
          "output_type": "stream",
          "name": "stdout",
          "text": [
            "[5 6]\n"
          ]
        }
      ]
    },
    {
      "cell_type": "code",
      "source": [
        "arr = np.array([[1, 2, 3, 4, 5], [6, 7, 8, 9, 10]])\n",
        "print(arr)\n",
        "print(arr[0:2, 2])"
      ],
      "metadata": {
        "colab": {
          "base_uri": "https://localhost:8080/"
        },
        "id": "NTz7xGISFZk5",
        "outputId": "ac7c9455-31dd-4ddb-e517-a2563df49d00"
      },
      "execution_count": null,
      "outputs": [
        {
          "output_type": "stream",
          "name": "stdout",
          "text": [
            "[[ 1  2  3  4  5]\n",
            " [ 6  7  8  9 10]]\n",
            "[3 8]\n"
          ]
        }
      ]
    },
    {
      "cell_type": "code",
      "source": [
        "arr = np.array([1, 2, 3, 4])\n",
        "print(arr.dtype)"
      ],
      "metadata": {
        "colab": {
          "base_uri": "https://localhost:8080/"
        },
        "id": "agbSHBHrFZs1",
        "outputId": "35960f0d-2048-4567-9ccd-889f36d6012b"
      },
      "execution_count": null,
      "outputs": [
        {
          "output_type": "stream",
          "name": "stdout",
          "text": [
            "int64\n"
          ]
        }
      ]
    },
    {
      "cell_type": "code",
      "source": [
        "arr = np.array([1, 2, 3, 4, 5])\n",
        "x = arr.copy()\n",
        "arr[0] = 42\n",
        "\n",
        "print(arr)\n",
        "print(x)"
      ],
      "metadata": {
        "colab": {
          "base_uri": "https://localhost:8080/"
        },
        "id": "LClzx-HDItuu",
        "outputId": "f11834fc-d3c1-48cf-e520-5bfa190ea2e3"
      },
      "execution_count": null,
      "outputs": [
        {
          "output_type": "stream",
          "name": "stdout",
          "text": [
            "[42  2  3  4  5]\n",
            "[1 2 3 4 5]\n"
          ]
        }
      ]
    },
    {
      "cell_type": "code",
      "source": [
        "arr = np.array([1, 2, 3, 4, 5])\n",
        "x = arr.view()\n",
        "x[0] = 31\n",
        "\n",
        "print(arr)\n",
        "print(x)"
      ],
      "metadata": {
        "colab": {
          "base_uri": "https://localhost:8080/"
        },
        "id": "vMlA4CmrIt0P",
        "outputId": "2c59602d-003a-4450-aa01-6829c6375fcd"
      },
      "execution_count": null,
      "outputs": [
        {
          "output_type": "stream",
          "name": "stdout",
          "text": [
            "[31  2  3  4  5]\n",
            "[31  2  3  4  5]\n"
          ]
        }
      ]
    },
    {
      "cell_type": "code",
      "source": [
        "arr = np.array([[1, 2, 3, 4, 5],[6,7,8,9,10]])\n",
        "\n",
        "x = arr.copy()\n",
        "y = arr.view()\n",
        "\n",
        "print(x.base)\n",
        "print(y.base)"
      ],
      "metadata": {
        "colab": {
          "base_uri": "https://localhost:8080/"
        },
        "id": "C0IoQ6kqIt44",
        "outputId": "f79bfcb7-79c2-4e24-d00a-2e66890bc0c8"
      },
      "execution_count": null,
      "outputs": [
        {
          "output_type": "stream",
          "name": "stdout",
          "text": [
            "None\n",
            "[[ 1  2  3  4  5]\n",
            " [ 6  7  8  9 10]]\n"
          ]
        }
      ]
    },
    {
      "cell_type": "code",
      "source": [
        "arr = np.array([[1, 2, 3, 4], [5, 6, 7, 8]])\n",
        "print(arr.shape)"
      ],
      "metadata": {
        "colab": {
          "base_uri": "https://localhost:8080/"
        },
        "id": "V0Yv6fciI9UV",
        "outputId": "e2d4462a-2670-4ba9-f740-c10e52495ead"
      },
      "execution_count": null,
      "outputs": [
        {
          "output_type": "stream",
          "name": "stdout",
          "text": [
            "(2, 4)\n"
          ]
        }
      ]
    },
    {
      "cell_type": "code",
      "source": [
        "arr = np.array([1, 2, 3, 4, 5, 6, 7, 8, 9, 10, 11, 12])\n",
        "newarr = arr.reshape(2, 3, 2)\n",
        "print(newarr)"
      ],
      "metadata": {
        "colab": {
          "base_uri": "https://localhost:8080/"
        },
        "id": "OUpIJAywI9ZC",
        "outputId": "8e4e12f7-1683-490f-fdfa-b3b976a9b6c9"
      },
      "execution_count": null,
      "outputs": [
        {
          "output_type": "stream",
          "name": "stdout",
          "text": [
            "[[[ 1  2]\n",
            "  [ 3  4]\n",
            "  [ 5  6]]\n",
            "\n",
            " [[ 7  8]\n",
            "  [ 9 10]\n",
            "  [11 12]]]\n"
          ]
        }
      ]
    },
    {
      "cell_type": "code",
      "source": [
        "arr = np.array([1, 2, 3, 4, 5, 6, 7, 8])\n",
        "print(arr.reshape(4, 2).base)"
      ],
      "metadata": {
        "colab": {
          "base_uri": "https://localhost:8080/"
        },
        "id": "Ny_zyzh8JSn8",
        "outputId": "6cf01c7a-30fe-4539-d422-71da16bfbb84"
      },
      "execution_count": null,
      "outputs": [
        {
          "output_type": "stream",
          "name": "stdout",
          "text": [
            "[1 2 3 4 5 6 7 8]\n"
          ]
        }
      ]
    },
    {
      "cell_type": "code",
      "source": [
        "arr = np.array([1, 2, 3, 4, 5, 6, 7, 8,9,10,11,12])\n",
        "newarr = arr.reshape(2, 3, -1)\n",
        "print(newarr)"
      ],
      "metadata": {
        "colab": {
          "base_uri": "https://localhost:8080/"
        },
        "id": "i5iT92LtJSqk",
        "outputId": "85509e97-d21b-44b4-8519-a64b217e656c"
      },
      "execution_count": null,
      "outputs": [
        {
          "output_type": "stream",
          "name": "stdout",
          "text": [
            "[[[ 1  2]\n",
            "  [ 3  4]\n",
            "  [ 5  6]]\n",
            "\n",
            " [[ 7  8]\n",
            "  [ 9 10]\n",
            "  [11 12]]]\n"
          ]
        }
      ]
    },
    {
      "cell_type": "code",
      "source": [
        "arr = np.array([[1, 2, 3], [4, 5, 6]])\n",
        "newarr = arr.reshape(-8)\n",
        "print(newarr)"
      ],
      "metadata": {
        "colab": {
          "base_uri": "https://localhost:8080/"
        },
        "id": "BFmq4FEYFDFz",
        "outputId": "d7a31788-d81c-44c7-e0ae-fe4409548abc"
      },
      "execution_count": null,
      "outputs": [
        {
          "output_type": "stream",
          "name": "stdout",
          "text": [
            "[1 2 3 4 5 6]\n"
          ]
        }
      ]
    },
    {
      "cell_type": "code",
      "source": [
        "arr = np.array([1, 2, 3, 4, 5, 6, 7, 8, 9, 10, 11, 12])\n",
        "newarr = arr.reshape(4, 3)\n",
        "print(newarr)"
      ],
      "metadata": {
        "colab": {
          "base_uri": "https://localhost:8080/"
        },
        "id": "YCPxQc-IJdGj",
        "outputId": "9af1302b-f165-4a14-b90d-85423f961b6e"
      },
      "execution_count": null,
      "outputs": [
        {
          "output_type": "stream",
          "name": "stdout",
          "text": [
            "[[ 1  2  3]\n",
            " [ 4  5  6]\n",
            " [ 7  8  9]\n",
            " [10 11 12]]\n"
          ]
        }
      ]
    },
    {
      "cell_type": "code",
      "source": [
        "arr = np.array([[[1, 2, 3], [4, 5, 6]], [[1, 2, 3], [4, 5, 6]]])\n",
        "arr = arr.reshape((4,3),axis=0)\n",
        "arr"
      ],
      "metadata": {
        "colab": {
          "base_uri": "https://localhost:8080/"
        },
        "id": "ju1CW2ChHbF0",
        "outputId": "13b02853-5477-40da-ca5b-ff59aed48d5c"
      },
      "execution_count": null,
      "outputs": [
        {
          "output_type": "execute_result",
          "data": {
            "text/plain": [
              "array([[1, 2, 3],\n",
              "       [4, 5, 6],\n",
              "       [1, 2, 3],\n",
              "       [4, 5, 6]])"
            ]
          },
          "metadata": {},
          "execution_count": 68
        }
      ]
    },
    {
      "cell_type": "code",
      "source": [
        "arr = np.array([1, 2, 3,4,5,6,7,8])\n",
        "for x in arr:\n",
        "  print(x,end=\" \")"
      ],
      "metadata": {
        "colab": {
          "base_uri": "https://localhost:8080/"
        },
        "id": "FiWyiSNELKnO",
        "outputId": "5b348fa8-0041-4a0b-8f9f-a89fb52e26ac"
      },
      "execution_count": null,
      "outputs": [
        {
          "output_type": "stream",
          "name": "stdout",
          "text": [
            "1 2 3 4 5 6 7 8 "
          ]
        }
      ]
    },
    {
      "cell_type": "code",
      "source": [
        "arr = np.array([[1, 2, 3], [4, 5, 6]])\n",
        "for x in arr:\n",
        "  print(x)"
      ],
      "metadata": {
        "colab": {
          "base_uri": "https://localhost:8080/"
        },
        "id": "D7SYV1ldLKq3",
        "outputId": "b8757147-bc36-40ec-d123-878c9b525d39"
      },
      "execution_count": null,
      "outputs": [
        {
          "output_type": "stream",
          "name": "stdout",
          "text": [
            "[1 2 3]\n",
            "[4 5 6]\n"
          ]
        }
      ]
    },
    {
      "cell_type": "code",
      "source": [
        "arr = np.array([[1, 2, 3], [4, 5, 6]])\n",
        "for x in arr:\n",
        "  for y in x:\n",
        "    print(y)"
      ],
      "metadata": {
        "colab": {
          "base_uri": "https://localhost:8080/"
        },
        "id": "XlSavi2lLKt_",
        "outputId": "c3f73226-8a44-45ca-db70-63132c3aba8b"
      },
      "execution_count": null,
      "outputs": [
        {
          "output_type": "stream",
          "name": "stdout",
          "text": [
            "1\n",
            "2\n",
            "3\n",
            "4\n",
            "5\n",
            "6\n"
          ]
        }
      ]
    },
    {
      "cell_type": "code",
      "source": [
        "arr = np.array([[1, 2, 3], [4, 5, 6]])\n",
        "for x in arr:\n",
        "  for y in x:\n",
        "    print(x)"
      ],
      "metadata": {
        "colab": {
          "base_uri": "https://localhost:8080/"
        },
        "id": "1AhbHjNfLsRF",
        "outputId": "a703fedb-e2a5-4ed1-ef1b-924ff44b5234"
      },
      "execution_count": null,
      "outputs": [
        {
          "output_type": "stream",
          "name": "stdout",
          "text": [
            "[1 2 3]\n",
            "[1 2 3]\n",
            "[1 2 3]\n",
            "[4 5 6]\n",
            "[4 5 6]\n",
            "[4 5 6]\n"
          ]
        }
      ]
    },
    {
      "cell_type": "code",
      "source": [
        "arr = np.array([[[1, 2, 3], [4, 5, 6]], [[7, 8, 9], [10, 11, 12]]])\n",
        "for x in arr:\n",
        "  print(x)"
      ],
      "metadata": {
        "colab": {
          "base_uri": "https://localhost:8080/"
        },
        "id": "kNT_58TTL0xz",
        "outputId": "2584468c-1d55-4193-b617-93e566fb0df8"
      },
      "execution_count": null,
      "outputs": [
        {
          "output_type": "stream",
          "name": "stdout",
          "text": [
            "[[1 2 3]\n",
            " [4 5 6]]\n",
            "[[ 7  8  9]\n",
            " [10 11 12]]\n"
          ]
        }
      ]
    },
    {
      "cell_type": "code",
      "source": [
        "for x in arr:\n",
        "  for y in x:\n",
        "    for z in y:\n",
        "      print(z)"
      ],
      "metadata": {
        "colab": {
          "base_uri": "https://localhost:8080/"
        },
        "id": "Gcs2SyoYL00p",
        "outputId": "9f6be78b-9cb7-409f-97e2-26fd9b0182b2"
      },
      "execution_count": null,
      "outputs": [
        {
          "output_type": "stream",
          "name": "stdout",
          "text": [
            "1\n",
            "2\n",
            "3\n",
            "4\n",
            "5\n",
            "6\n",
            "7\n",
            "8\n",
            "9\n",
            "10\n",
            "11\n",
            "12\n"
          ]
        }
      ]
    },
    {
      "cell_type": "code",
      "source": [
        "arr1 = np.array([1, 2, 3])\n",
        "arr2 = np.array([4, 5, 6])\n",
        "\n",
        "arr = np.concatenate((arr1, arr2))\n",
        "print(arr)"
      ],
      "metadata": {
        "colab": {
          "base_uri": "https://localhost:8080/"
        },
        "id": "oo3G1RtQMBYL",
        "outputId": "93234b9c-e958-47a8-8961-b2645b54a5be"
      },
      "execution_count": null,
      "outputs": [
        {
          "output_type": "stream",
          "name": "stdout",
          "text": [
            "[1 2 3 4 5 6]\n"
          ]
        }
      ]
    },
    {
      "cell_type": "code",
      "source": [
        "arr1 = np.array([[1, 2], [3, 4]])\n",
        "arr2 = np.array([[5, 6], [7, 8]])\n",
        "arr = np.concatenate((arr1, arr2), axis=1)\n",
        "print(arr)"
      ],
      "metadata": {
        "colab": {
          "base_uri": "https://localhost:8080/"
        },
        "id": "MWiOmdlvMg8E",
        "outputId": "2fcf3f14-995e-458a-e167-8adeb818bc93"
      },
      "execution_count": null,
      "outputs": [
        {
          "output_type": "stream",
          "name": "stdout",
          "text": [
            "[[1 2 5 6]\n",
            " [3 4 7 8]]\n"
          ]
        }
      ]
    },
    {
      "cell_type": "code",
      "source": [
        "arr = np.array([1, 2, 3, 4, 5, 6])\n",
        "newarr = np.array_split(arr, 2)\n",
        "print(newarr)"
      ],
      "metadata": {
        "colab": {
          "base_uri": "https://localhost:8080/"
        },
        "id": "I9s42B60MBau",
        "outputId": "1200a591-3d5f-44fd-96fd-5ab1795c3eec"
      },
      "execution_count": null,
      "outputs": [
        {
          "output_type": "stream",
          "name": "stdout",
          "text": [
            "[array([1, 2, 3]), array([4, 5, 6])]\n"
          ]
        }
      ]
    },
    {
      "cell_type": "code",
      "source": [
        "arr = np.array([1, 2, 3, 4, 5, 6])\n",
        "\n",
        "newarr = np.array_split(arr, 3)\n",
        "\n",
        "print(newarr[0])\n",
        "print(newarr[1])\n",
        "print(newarr[2])"
      ],
      "metadata": {
        "colab": {
          "base_uri": "https://localhost:8080/"
        },
        "id": "mOtc1gxoMBds",
        "outputId": "e59b5130-80b9-473c-8748-cb6f944ca376"
      },
      "execution_count": null,
      "outputs": [
        {
          "output_type": "stream",
          "name": "stdout",
          "text": [
            "[1 2]\n",
            "[3 4]\n",
            "[5 6]\n"
          ]
        }
      ]
    },
    {
      "cell_type": "code",
      "source": [
        "arr = np.array([[1, 2, 3], [4, 5, 6], [7, 8, 9], [10, 11, 12], [13, 14, 15], [16, 17, 18]])\n",
        "\n",
        "newarr = np.array_split(arr, 3)\n",
        "print(newarr)"
      ],
      "metadata": {
        "colab": {
          "base_uri": "https://localhost:8080/"
        },
        "id": "JL149AiRMx-V",
        "outputId": "d9bbafc9-9721-4247-d24f-9a30e74a8c1f"
      },
      "execution_count": null,
      "outputs": [
        {
          "output_type": "stream",
          "name": "stdout",
          "text": [
            "[array([[1, 2, 3],\n",
            "       [4, 5, 6]]), array([[ 7,  8,  9],\n",
            "       [10, 11, 12]]), array([[13, 14, 15],\n",
            "       [16, 17, 18]])]\n"
          ]
        }
      ]
    },
    {
      "cell_type": "code",
      "source": [
        "arr = np.array([[1, 2, 3], [4, 5, 6], [7, 8, 9], [10, 11, 12], [13, 14, 15], [16, 17, 18]])\n",
        "\n",
        "newarr = np.array_split(arr, 3)\n",
        "\n",
        "print(newarr[0])\n",
        "print(newarr[1])\n",
        "print(newarr[2])"
      ],
      "metadata": {
        "colab": {
          "base_uri": "https://localhost:8080/"
        },
        "id": "_FpVf7HnMyGj",
        "outputId": "5da08b47-7e75-4599-8f04-08e20ecc1b75"
      },
      "execution_count": null,
      "outputs": [
        {
          "output_type": "stream",
          "name": "stdout",
          "text": [
            "[[1 2 3]\n",
            " [4 5 6]]\n",
            "[[ 7  8  9]\n",
            " [10 11 12]]\n",
            "[[13 14 15]\n",
            " [16 17 18]]\n"
          ]
        }
      ]
    },
    {
      "cell_type": "code",
      "source": [
        "arr = np.array([1, 2, 3, 4, 5, 6, 7, 8])\n",
        "x = np.where(arr%2 == 1)\n",
        "print(x)"
      ],
      "metadata": {
        "colab": {
          "base_uri": "https://localhost:8080/"
        },
        "id": "h5VvgomTNBQ0",
        "outputId": "8837e65f-ea4a-4796-a65e-47c32db3c567"
      },
      "execution_count": null,
      "outputs": [
        {
          "output_type": "stream",
          "name": "stdout",
          "text": [
            "(array([0, 2, 4, 6]),)\n"
          ]
        }
      ]
    },
    {
      "cell_type": "code",
      "source": [
        "arr = np.array([1, 2, 3, 4, 5, 6, 7, 8])\n",
        "x = np.where(arr%2 == 1)\n",
        "print(arr[x])"
      ],
      "metadata": {
        "colab": {
          "base_uri": "https://localhost:8080/"
        },
        "id": "P_4taxL6NBWE",
        "outputId": "e16f0c2e-1fbb-4316-fc60-748242489e0a"
      },
      "execution_count": null,
      "outputs": [
        {
          "output_type": "stream",
          "name": "stdout",
          "text": [
            "[1 3 5 7]\n"
          ]
        }
      ]
    },
    {
      "cell_type": "code",
      "source": [
        "arr = np.array([[[1, 2, 3], [4, 5, 6], [7, 8, 9], [10, 11, 12], [13, 14, 15], [16, 17, 18]]])\n",
        "x = np.where(arr==11)\n",
        "print(x)\n",
        "print(arr[x])"
      ],
      "metadata": {
        "colab": {
          "base_uri": "https://localhost:8080/"
        },
        "id": "BQ3k55psSHhL",
        "outputId": "fd007bed-8e45-49f1-dfd4-592cfb23dbdd"
      },
      "execution_count": null,
      "outputs": [
        {
          "output_type": "stream",
          "name": "stdout",
          "text": [
            "(array([0]), array([3]), array([1]))\n",
            "[11]\n"
          ]
        }
      ]
    },
    {
      "cell_type": "code",
      "source": [
        "arr = np.array([3, 2, 0, 1])\n",
        "print(np.sort(arr))"
      ],
      "metadata": {
        "colab": {
          "base_uri": "https://localhost:8080/"
        },
        "id": "z3JJPT_3OYpE",
        "outputId": "f511f192-b7f2-4a6a-d137-d71012113b72"
      },
      "execution_count": null,
      "outputs": [
        {
          "output_type": "stream",
          "name": "stdout",
          "text": [
            "[0 1 2 3]\n"
          ]
        }
      ]
    },
    {
      "cell_type": "code",
      "source": [
        "arr = np.array([[3, 2, 4], [5, 0, 1]])\n",
        "arr = np.concatenate(arr)\n",
        "print(arr)\n",
        "print(np.sort(arr))"
      ],
      "metadata": {
        "colab": {
          "base_uri": "https://localhost:8080/"
        },
        "id": "5Yprh8W8OYr_",
        "outputId": "f73c2894-f10a-4bfe-a9d7-147075f7ef4c"
      },
      "execution_count": null,
      "outputs": [
        {
          "output_type": "stream",
          "name": "stdout",
          "text": [
            "[3 2 4 5 0 1]\n",
            "[0 1 2 3 4 5]\n"
          ]
        }
      ]
    }
  ]
}